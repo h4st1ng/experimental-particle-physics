{
 "cells": [
  {
   "cell_type": "markdown",
   "metadata": {},
   "source": [
    "# Draw $t$ - $\\bar{t}$ histograms"
   ]
  },
  {
   "cell_type": "markdown",
   "metadata": {},
   "source": [
    "Una vez que los histogramas han sido calculados podemos dibujarlos de acuerdo a nuestras necesidades de análisis, que al ser tan diversas pueden escapar de una abstracción adecuada en un entrypoint de python. Por tanto en el presente notebook realizaremos el graficado y guardado de los histogramas que nos interesen."
   ]
  },
  {
   "cell_type": "code",
   "execution_count": 1,
   "metadata": {},
   "outputs": [
    {
     "name": "stdout",
     "output_type": "stream",
     "text": [
      "Welcome to JupyROOT 6.28/04\n"
     ]
    }
   ],
   "source": [
    "# LIbrerías de trabajo\n",
    "import ROOT\n",
    "import os\n",
    "import sys"
   ]
  },
  {
   "cell_type": "markdown",
   "metadata": {},
   "source": [
    "Empezamos entonces trayendonos la configuración global del proyecto y ajustando las rutas necesarias para cargar los histogramas calculados"
   ]
  },
  {
   "cell_type": "code",
   "execution_count": 2,
   "metadata": {},
   "outputs": [],
   "source": [
    "# Configuración de system paths\n",
    "sys.path.append(os.path.abspath(\"\").replace(\"/notebooks\",\"\"))\n",
    "# cargar elementos auxiliares\n",
    "from src.epp.utils import export_png_as_pdf\n",
    "# Configuración de paths de trabajo\n",
    "from config import OUTPUT_PATH\n",
    "data_path = OUTPUT_PATH+\"ttbar/\"\n",
    "mc_path = OUTPUT_PATH+\"ttbar_mc/\"\n",
    "w_path = OUTPUT_PATH+\"ttbar_w/\"\n",
    "draw_path = OUTPUT_PATH+\"ttbar_data_vs_mc/\""
   ]
  },
  {
   "cell_type": "code",
   "execution_count": 3,
   "metadata": {},
   "outputs": [],
   "source": [
    "# Creación de rutas adicionales\n",
    "if not os.path.exists(draw_path):\n",
    "    os.makedirs(draw_path)"
   ]
  },
  {
   "cell_type": "markdown",
   "metadata": {},
   "source": [
    "## Exploración de resultados"
   ]
  },
  {
   "cell_type": "markdown",
   "metadata": {},
   "source": [
    "Con el entorno y las rutas configuradas revisemos cuales histogramas tenemos"
   ]
  },
  {
   "cell_type": "code",
   "execution_count": 4,
   "metadata": {},
   "outputs": [
    {
     "data": {
      "text/plain": [
       "['leptons_num.root',\n",
       " 'mv1_jets.root',\n",
       " 'hist',\n",
       " 'jvf_jets.root',\n",
       " 'mtw.root',\n",
       " 'leptons_pt.root',\n",
       " 'track_isol.root',\n",
       " 'calor_isol.root',\n",
       " 'jets_num.root',\n",
       " 'met_et.root',\n",
       " 'eta_jets.root',\n",
       " 'b_jets_num.root',\n",
       " 'eta_lepton.root',\n",
       " 'jets_pt.root']"
      ]
     },
     "execution_count": 4,
     "metadata": {},
     "output_type": "execute_result"
    }
   ],
   "source": [
    "# Histogramas de datos\n",
    "os.listdir(data_path)"
   ]
  },
  {
   "cell_type": "code",
   "execution_count": 5,
   "metadata": {},
   "outputs": [
    {
     "data": {
      "text/plain": [
       "['leptons_num.root',\n",
       " 'mv1_jets.root',\n",
       " 'mc_weight.root',\n",
       " 'mc_weight_sf.root',\n",
       " 'jvf_jets.root',\n",
       " 'mtw.root',\n",
       " 'cuts.root',\n",
       " 'leptons_pt.root',\n",
       " 'track_isol.root',\n",
       " 'calor_isol.root',\n",
       " 'jets_num.root',\n",
       " 'met_et.root',\n",
       " 'eta_jets.root',\n",
       " 'b_jets_num.root',\n",
       " 'eta_lepton.root',\n",
       " 'jets_pt.root']"
      ]
     },
     "execution_count": 5,
     "metadata": {},
     "output_type": "execute_result"
    }
   ],
   "source": [
    "# HIstogramas de mc\n",
    "os.listdir(mc_path)"
   ]
  },
  {
   "cell_type": "markdown",
   "metadata": {},
   "source": [
    "que básicamente separten en tres tipos de histogramas:\n",
    "\n",
    "- Leptones\n",
    "- Jets\n",
    "- Energía perdida\n",
    " \n",
    "y lo que buscamos es comparar los histogramas de los datos con los mc, para lo cual vamos a definir el lienzo de dibujo y algunos colores para las diferentes variables a revisar"
   ]
  },
  {
   "cell_type": "code",
   "execution_count": 6,
   "metadata": {},
   "outputs": [],
   "source": [
    "# Crear un lienzo (canvas)\n",
    "canvas = ROOT.TCanvas(\"Canvas\", \"\", 1200, 800)\n",
    "# green\n",
    "color1 =  ROOT.gROOT.GetColor(11); color1 = ROOT.TColor.SetRGB(color1,166,212,156)\n",
    "# red\n",
    "color2 =  ROOT.gROOT.GetColor(12); color2 = ROOT.TColor.SetRGB(color2,207,100,100)\n",
    "# blue\n",
    "color3 =  ROOT.gROOT.GetColor(13); color3 = ROOT.TColor.SetRGB(color3,91,148,202)\n",
    "# orange\n",
    "color4 =  ROOT.gROOT.GetColor(14); color4 = ROOT.TColor.SetRGB(color4,255,139,51)"
   ]
  },
  {
   "cell_type": "markdown",
   "metadata": {},
   "source": [
    "### Pintado y salvado de histogramas"
   ]
  },
  {
   "cell_type": "markdown",
   "metadata": {},
   "source": [
    "* Factor de luminosidad"
   ]
  },
  {
   "cell_type": "code",
   "execution_count": 7,
   "metadata": {},
   "outputs": [
    {
     "data": {
      "text/plain": [
       "0.03820825833559052"
      ]
     },
     "execution_count": 7,
     "metadata": {},
     "output_type": "execute_result"
    }
   ],
   "source": [
    "# Factor de escala por luminosidad\n",
    "Ne_mc = 49761200.21\n",
    "f_mc = 0.072212854\n",
    "sigma = 137.29749 * 1e3\n",
    "Lmc = (Ne_mc*f_mc)/sigma\n",
    "Ld = 1\n",
    "LWeight = Ld/Lmc\n",
    "LWeight"
   ]
  },
  {
   "cell_type": "markdown",
   "metadata": {},
   "source": [
    "* Pintado y gurdado de histogramas"
   ]
  },
  {
   "cell_type": "code",
   "execution_count": 11,
   "metadata": {},
   "outputs": [],
   "source": [
    "tvar = {\n",
    "    \"leptons_num\":{\"title\":\"Total leptons\",\"color\":17},\n",
    "    \"track_isol\":{\"title\":\"Isolation tracker\",\"color\":13},\n",
    "    \"calor_isol\":{\"title\":\"Isolation colorimeter\",\"color\":13},\n",
    "    \"eta_lepton\":{\"title\":\"Lepton eta\",\"color\":12},\n",
    "    \"leptons_pt\":{\"title\":\"Lepton pT\",\"color\":11},\n",
    "    \"jets_num\":{\"title\":\"Total jets\",\"color\":17},\n",
    "    \"b_jets_num\":{\"title\":\"Total b-jets\",\"color\":17},\n",
    "    \"mv1_jets\":{\"title\":\"MV1 jets\",\"color\":13},\n",
    "    \"jvf_jets\":{\"title\":\"JVF jets\",\"color\":13},\n",
    "    \"eta_jets\":{\"title\":\"Jet eta\",\"color\":12},\n",
    "    \"jets_pt\":{\"title\":\"Jet pT\",\"color\":11},\n",
    "    \"met_et\":{\"title\":\"Missing energy\",\"color\":14},\n",
    "    \"mtw\":{\"title\":\"W transverse mass\",\"color\":13}\n",
    "}"
   ]
  },
  {
   "cell_type": "code",
   "execution_count": 12,
   "metadata": {},
   "outputs": [
    {
     "name": "stderr",
     "output_type": "stream",
     "text": [
      "Info in <TCanvas::Print>: png file /home/linux/Documentos/Fisica_experimental_de_particulas/experimental-particle-physics/results/ttbar_data_vs_mc/leptons_num.png has been created\n",
      "Info in <TCanvas::Print>: png file /home/linux/Documentos/Fisica_experimental_de_particulas/experimental-particle-physics/results/ttbar_data_vs_mc/track_isol.png has been created\n",
      "Info in <TCanvas::Print>: png file /home/linux/Documentos/Fisica_experimental_de_particulas/experimental-particle-physics/results/ttbar_data_vs_mc/calor_isol.png has been created\n",
      "Info in <TCanvas::Print>: png file /home/linux/Documentos/Fisica_experimental_de_particulas/experimental-particle-physics/results/ttbar_data_vs_mc/eta_lepton.png has been created\n",
      "Info in <TCanvas::Print>: png file /home/linux/Documentos/Fisica_experimental_de_particulas/experimental-particle-physics/results/ttbar_data_vs_mc/leptons_pt.png has been created\n",
      "Info in <TCanvas::Print>: png file /home/linux/Documentos/Fisica_experimental_de_particulas/experimental-particle-physics/results/ttbar_data_vs_mc/jets_num.png has been created\n",
      "Info in <TCanvas::Print>: png file /home/linux/Documentos/Fisica_experimental_de_particulas/experimental-particle-physics/results/ttbar_data_vs_mc/b_jets_num.png has been created\n",
      "Info in <TCanvas::Print>: png file /home/linux/Documentos/Fisica_experimental_de_particulas/experimental-particle-physics/results/ttbar_data_vs_mc/mv1_jets.png has been created\n",
      "Info in <TCanvas::Print>: png file /home/linux/Documentos/Fisica_experimental_de_particulas/experimental-particle-physics/results/ttbar_data_vs_mc/jvf_jets.png has been created\n",
      "Info in <TCanvas::Print>: png file /home/linux/Documentos/Fisica_experimental_de_particulas/experimental-particle-physics/results/ttbar_data_vs_mc/eta_jets.png has been created\n",
      "Info in <TCanvas::Print>: png file /home/linux/Documentos/Fisica_experimental_de_particulas/experimental-particle-physics/results/ttbar_data_vs_mc/jets_pt.png has been created\n",
      "Info in <TCanvas::Print>: png file /home/linux/Documentos/Fisica_experimental_de_particulas/experimental-particle-physics/results/ttbar_data_vs_mc/met_et.png has been created\n",
      "Info in <TCanvas::Print>: png file /home/linux/Documentos/Fisica_experimental_de_particulas/experimental-particle-physics/results/ttbar_data_vs_mc/mtw.png has been created\n"
     ]
    },
    {
     "data": {
      "image/png": "[encoded data removed]",
      "text/plain": [
       "<IPython.core.display.Image object>"
      ]
     },
     "metadata": {},
     "output_type": "display_data"
    }
   ],
   "source": [
    "for key in tvar:\n",
    "    # parameters\n",
    "    var = key \n",
    "    data_color = 1\n",
    "    mc_color = tvar[key][\"color\"]\n",
    "    title = tvar[key][\"title\"]\n",
    "    # Crear un lienzo (canvas)\n",
    "    canvas = ROOT.TCanvas(f\"Canvas_{var}\", \"\", 800, 600)\n",
    "    # lectura de histogramas de datos\n",
    "    file_dt = data_path+var+\".root\"\n",
    "    tfile_dt = ROOT.TFile(file_dt, \"READ\")\n",
    "    hist_dt = tfile_dt.Get(var)\n",
    "    # lectura de histogramas de mc\n",
    "    file_mc = mc_path+var+\".root\"\n",
    "    tfile_mc = ROOT.TFile(file_mc, \"READ\")\n",
    "    hist_mc = tfile_mc.Get(var)\n",
    "    hist_mc.Scale(LWeight)\n",
    "    # histograma moc\n",
    "    hist_moc = hist_mc.Clone()\n",
    "    # dibujar histograma moc\n",
    "    hist_moc.SetStats(0)\n",
    "    hist_moc.SetTitle(title)\n",
    "    hist_moc.SetMarkerStyle(3)\n",
    "    hist_moc.SetMarkerSize(0.6)\n",
    "    hist_moc.Draw(\"P\")\n",
    "    # dibujar histograma de mc\n",
    "    hist_mc.SetLineColor(mc_color)\n",
    "    hist_mc.SetFillStyle(3001)\n",
    "    hist_mc.SetFillColor(mc_color)\n",
    "    hist_mc.SetTitle(\"MC\")\n",
    "    hist_mc.Draw(\"HIST, SAME\")\n",
    "    # dibujar histograma de datos\n",
    "    hist_dt.SetLineColor(data_color)\n",
    "    hist_dt.SetLineWidth(1)\n",
    "    hist_dt.SetTitle(\"Data\")\n",
    "    hist_dt.Draw(\"HIST,SAME\")\n",
    "    # Pintado y guardado\n",
    "    canvas.BuildLegend(0.75, 0.79, 0.89, 0.89)\n",
    "    canvas.Draw()\n",
    "    canvas.SaveAs(draw_path+f\"{var}.png\")"
   ]
  },
  {
   "cell_type": "markdown",
   "metadata": {},
   "source": [
    "* Compilado de imagenes en pdf"
   ]
  },
  {
   "cell_type": "code",
   "execution_count": 15,
   "metadata": {},
   "outputs": [
    {
     "name": "stdout",
     "output_type": "stream",
     "text": [
      "Se ha creado el archivo PDF: /home/linux/Documentos/Fisica_experimental_de_particulas/experimental-particle-physics/results/ttbar_data_vs_mc/histograms_data_vs_mc.pdf\n"
     ]
    }
   ],
   "source": [
    "image_paths =[draw_path+x+\".png\" for x in tvar]  \n",
    "pdf_filename = draw_path+\"histograms_data_vs_mc.pdf\"\n",
    "export_png_as_pdf(image_paths=image_paths, pdf_filename=pdf_filename)"
   ]
  },
  {
   "cell_type": "code",
   "execution_count": null,
   "metadata": {},
   "outputs": [],
   "source": []
  }
 ],
 "metadata": {
  "kernelspec": {
   "display_name": "Python 3 (ipykernel)",
   "language": "python",
   "name": "python3"
  },
  "language_info": {
   "codemirror_mode": {
    "name": "ipython",
    "version": 3
   },
   "file_extension": ".py",
   "mimetype": "text/x-python",
   "name": "python",
   "nbconvert_exporter": "python",
   "pygments_lexer": "ipython3",
   "version": "3.11.6"
  }
 },
 "nbformat": 4,
 "nbformat_minor": 4
}
